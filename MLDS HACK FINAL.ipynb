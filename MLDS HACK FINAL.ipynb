{
 "cells": [
  {
   "cell_type": "code",
   "execution_count": 5,
   "id": "34a237f5",
   "metadata": {},
   "outputs": [],
   "source": [
    "# Import required libraries\n",
    "import pandas as pd\n",
    "import numpy as np\n",
    "import matplotlib.pyplot as plt\n",
    "import seaborn as sns\n",
    "\n",
    "# Load the dataset\n",
    "url = \"/Users/adishsundar/Desktop/MLDS/Amazon_reviews_plus_LLM.csv\"\n",
    "data = pd.read_csv(url)"
   ]
  },
  {
   "cell_type": "code",
   "execution_count": 8,
   "id": "0e6486a4",
   "metadata": {},
   "outputs": [],
   "source": [
    "# 1422 rows with null data, getting rid of them can improve the accuracy of our results\n",
    "new_data = data\n",
    "new_data.dropna(inplace=True)"
   ]
  },
  {
   "cell_type": "code",
   "execution_count": 9,
   "id": "51648ae0",
   "metadata": {},
   "outputs": [
    {
     "data": {
      "text/html": [
       "<div>\n",
       "<style scoped>\n",
       "    .dataframe tbody tr th:only-of-type {\n",
       "        vertical-align: middle;\n",
       "    }\n",
       "\n",
       "    .dataframe tbody tr th {\n",
       "        vertical-align: top;\n",
       "    }\n",
       "\n",
       "    .dataframe thead th {\n",
       "        text-align: right;\n",
       "    }\n",
       "</style>\n",
       "<table border=\"1\" class=\"dataframe\">\n",
       "  <thead>\n",
       "    <tr style=\"text-align: right;\">\n",
       "      <th></th>\n",
       "      <th>reviewerID</th>\n",
       "      <th>asin</th>\n",
       "      <th>reviewerName</th>\n",
       "      <th>helpful</th>\n",
       "      <th>reviewText</th>\n",
       "      <th>overall</th>\n",
       "      <th>summary</th>\n",
       "      <th>unixReviewTime</th>\n",
       "      <th>reviewTime</th>\n",
       "      <th>llm</th>\n",
       "    </tr>\n",
       "  </thead>\n",
       "  <tbody>\n",
       "    <tr>\n",
       "      <th>0</th>\n",
       "      <td>c23c3405-0e6f-44d5-b8bd-cf3ae7af7507</td>\n",
       "      <td>ed4114b9-858d-446b-b959-0c3ea0cda107</td>\n",
       "      <td>Andrea</td>\n",
       "      <td>[3, 4]</td>\n",
       "      <td>Very oily and creamy. Not at all what I expect...</td>\n",
       "      <td>1.0</td>\n",
       "      <td>Don't waste your money</td>\n",
       "      <td>1391040000</td>\n",
       "      <td>01 30, 2014</td>\n",
       "      <td>False</td>\n",
       "    </tr>\n",
       "    <tr>\n",
       "      <th>1</th>\n",
       "      <td>43451c1d-99bc-4656-ad09-78bc3c2bb5b1</td>\n",
       "      <td>ed4114b9-858d-446b-b959-0c3ea0cda107</td>\n",
       "      <td>Jessica H.</td>\n",
       "      <td>[1, 1]</td>\n",
       "      <td>This palette was a decent price and I was look...</td>\n",
       "      <td>3.0</td>\n",
       "      <td>OK Palette!</td>\n",
       "      <td>1397779200</td>\n",
       "      <td>04 18, 2014</td>\n",
       "      <td>False</td>\n",
       "    </tr>\n",
       "    <tr>\n",
       "      <th>2</th>\n",
       "      <td>34307dbe-a180-4cbe-a928-0554828a66a8</td>\n",
       "      <td>ed4114b9-858d-446b-b959-0c3ea0cda107</td>\n",
       "      <td>Karen</td>\n",
       "      <td>[0, 1]</td>\n",
       "      <td>The texture of this concealer pallet is fantas...</td>\n",
       "      <td>4.0</td>\n",
       "      <td>great quality</td>\n",
       "      <td>1378425600</td>\n",
       "      <td>09 6, 2013</td>\n",
       "      <td>False</td>\n",
       "    </tr>\n",
       "    <tr>\n",
       "      <th>3</th>\n",
       "      <td>61400f04-a1b6-41ba-a2ee-297580fe5939</td>\n",
       "      <td>ed4114b9-858d-446b-b959-0c3ea0cda107</td>\n",
       "      <td>Norah</td>\n",
       "      <td>[2, 2]</td>\n",
       "      <td>I really can't tell what exactly this thing is...</td>\n",
       "      <td>2.0</td>\n",
       "      <td>Do not work on my face</td>\n",
       "      <td>1386460800</td>\n",
       "      <td>12 8, 2013</td>\n",
       "      <td>False</td>\n",
       "    </tr>\n",
       "    <tr>\n",
       "      <th>4</th>\n",
       "      <td>df6d6c81-6817-46d9-8fed-03bc278c95b6</td>\n",
       "      <td>ed4114b9-858d-446b-b959-0c3ea0cda107</td>\n",
       "      <td>Nova Amor</td>\n",
       "      <td>[0, 0]</td>\n",
       "      <td>It was a little smaller than I expected, but t...</td>\n",
       "      <td>3.0</td>\n",
       "      <td>It's okay.</td>\n",
       "      <td>1382140800</td>\n",
       "      <td>10 19, 2013</td>\n",
       "      <td>False</td>\n",
       "    </tr>\n",
       "  </tbody>\n",
       "</table>\n",
       "</div>"
      ],
      "text/plain": [
       "                             reviewerID                                  asin  \\\n",
       "0  c23c3405-0e6f-44d5-b8bd-cf3ae7af7507  ed4114b9-858d-446b-b959-0c3ea0cda107   \n",
       "1  43451c1d-99bc-4656-ad09-78bc3c2bb5b1  ed4114b9-858d-446b-b959-0c3ea0cda107   \n",
       "2  34307dbe-a180-4cbe-a928-0554828a66a8  ed4114b9-858d-446b-b959-0c3ea0cda107   \n",
       "3  61400f04-a1b6-41ba-a2ee-297580fe5939  ed4114b9-858d-446b-b959-0c3ea0cda107   \n",
       "4  df6d6c81-6817-46d9-8fed-03bc278c95b6  ed4114b9-858d-446b-b959-0c3ea0cda107   \n",
       "\n",
       "  reviewerName helpful                                         reviewText  \\\n",
       "0       Andrea  [3, 4]  Very oily and creamy. Not at all what I expect...   \n",
       "1   Jessica H.  [1, 1]  This palette was a decent price and I was look...   \n",
       "2        Karen  [0, 1]  The texture of this concealer pallet is fantas...   \n",
       "3        Norah  [2, 2]  I really can't tell what exactly this thing is...   \n",
       "4    Nova Amor  [0, 0]  It was a little smaller than I expected, but t...   \n",
       "\n",
       "   overall                 summary  unixReviewTime   reviewTime    llm  \n",
       "0      1.0  Don't waste your money      1391040000  01 30, 2014  False  \n",
       "1      3.0             OK Palette!      1397779200  04 18, 2014  False  \n",
       "2      4.0           great quality      1378425600   09 6, 2013  False  \n",
       "3      2.0  Do not work on my face      1386460800   12 8, 2013  False  \n",
       "4      3.0              It's okay.      1382140800  10 19, 2013  False  "
      ]
     },
     "execution_count": 9,
     "metadata": {},
     "output_type": "execute_result"
    }
   ],
   "source": [
    "new_data.head()"
   ]
  },
  {
   "cell_type": "code",
   "execution_count": 10,
   "id": "3c89f0e3",
   "metadata": {},
   "outputs": [
    {
     "name": "stderr",
     "output_type": "stream",
     "text": [
      "/var/folders/bn/cbv7ftpx4cx24wl0rz52v1z00000gn/T/ipykernel_8013/528155117.py:2: FutureWarning: The default value of regex will change from True to False in a future version. In addition, single character regular expressions will *not* be treated as literal strings when regex=True.\n",
      "  df[['num1', 'num2']] = df['helpful'].str.replace('[', '').str.replace(']', '').str.split(',', expand=True).astype(int)\n"
     ]
    }
   ],
   "source": [
    "df = new_data\n",
    "df[['num1', 'num2']] = df['helpful'].str.replace('[', '').str.replace(']', '').str.split(',', expand=True).astype(int)"
   ]
  },
  {
   "cell_type": "code",
   "execution_count": 11,
   "id": "b5bc2548",
   "metadata": {},
   "outputs": [],
   "source": [
    "count = 0\n",
    "for index, row in new_data.iterrows():\n",
    "    if (int(row['num1'])) <= ((int(row['num1']) + int(row['num2'])) * 0.3):\n",
    "        count += 1"
   ]
  },
  {
   "cell_type": "code",
   "execution_count": 12,
   "id": "30b186aa",
   "metadata": {},
   "outputs": [
    {
     "name": "stdout",
     "output_type": "stream",
     "text": [
      "0.6579826583034353\n"
     ]
    }
   ],
   "source": [
    "print(count/len(data))"
   ]
  },
  {
   "cell_type": "code",
   "execution_count": 14,
   "id": "c3bb4649",
   "metadata": {},
   "outputs": [],
   "source": [
    "from sklearn.feature_extraction.text import TfidfVectorizer\n",
    "from sklearn.model_selection import train_test_split\n",
    "from sklearn.linear_model import LogisticRegression\n",
    "from sklearn.metrics import accuracy_score, classification_report"
   ]
  },
  {
   "cell_type": "code",
   "execution_count": 15,
   "id": "6cc9b653",
   "metadata": {},
   "outputs": [
    {
     "name": "stdout",
     "output_type": "stream",
     "text": [
      "Accuracy: 0.985510965475039\n",
      "Classification Report:               precision    recall  f1-score   support\n",
      "\n",
      "       False       0.99      1.00      0.99     49279\n",
      "        True       0.90      0.52      0.66      1380\n",
      "\n",
      "    accuracy                           0.99     50659\n",
      "   macro avg       0.95      0.76      0.83     50659\n",
      "weighted avg       0.98      0.99      0.98     50659\n",
      "\n"
     ]
    }
   ],
   "source": [
    "X_train, X_test, y_train, y_test = train_test_split(new_data['reviewText'], new_data['llm'], random_state=42)\n",
    "\n",
    "# Create a TfidfVectorizer object to convert the text data into numerical features\n",
    "vectorizer = TfidfVectorizer(stop_words='english')\n",
    "\n",
    "# Fit the vectorizer on the training data\n",
    "X_train_vec = vectorizer.fit_transform(X_train)\n",
    "\n",
    "# Create a logistic regression classifier and fit it on the training data\n",
    "clf = LogisticRegression(max_iter=10000)\n",
    "clf.fit(X_train_vec, y_train)\n",
    "\n",
    "# Use the classifier to make predictions on the test data\n",
    "X_test_vec = vectorizer.transform(X_test)\n",
    "y_pred = clf.predict(X_test_vec)\n",
    "\n",
    "# Evaluate the performance of the classifier\n",
    "accuracy = accuracy_score(y_test, y_pred)\n",
    "print('Accuracy:', accuracy)\n",
    "\n",
    "report = classification_report(y_test, y_pred)\n",
    "print('Classification Report:', report)"
   ]
  },
  {
   "cell_type": "code",
   "execution_count": 17,
   "id": "d1b95624",
   "metadata": {},
   "outputs": [
    {
     "data": {
      "text/plain": [
       "8.132319300076253"
      ]
     },
     "execution_count": 17,
     "metadata": {},
     "output_type": "execute_result"
    }
   ],
   "source": [
    "# The average reviewes per reviewer overall \n",
    "count_per_reviewer = new_data.groupby('reviewerID')\n",
    "newest = count_per_reviewer.count().sort_values(by='asin', ascending=False)\n",
    "newest['asin'].mean()"
   ]
  },
  {
   "cell_type": "code",
   "execution_count": 20,
   "id": "faf81a92",
   "metadata": {},
   "outputs": [
    {
     "data": {
      "text/plain": [
       "2.157403808783521"
      ]
     },
     "execution_count": 20,
     "metadata": {},
     "output_type": "execute_result"
    }
   ],
   "source": [
    "# The average reviewes per reviewer where ChatGPT was used to generate a fake review\n",
    "True_GPT = new_data[new_data['llm'] == True]\n",
    "gpt = True_GPT.groupby('reviewerID').count().sort_values(by='asin', ascending=False)\n",
    "gpt['asin'].mean()"
   ]
  },
  {
   "cell_type": "code",
   "execution_count": 18,
   "id": "af9740d1",
   "metadata": {},
   "outputs": [
    {
     "name": "stdout",
     "output_type": "stream",
     "text": [
      "291\n",
      "125\n",
      "26\n",
      "96\n",
      "202633\n"
     ]
    }
   ],
   "source": [
    "count = 0 \n",
    "\n",
    "count_2 = 0\n",
    "\n",
    "count_3 = 0\n",
    "\n",
    "count_gpt = 0\n",
    "\n",
    "total_count = 0\n",
    "\n",
    "for index, row in new_data.iterrows():\n",
    "    if \"nail\" in row[\"reviewerName\"].lower():\n",
    "        count += 1\n",
    "        \n",
    "    if \"nail\" in row[\"reviewerName\"].lower() and \"nail\" in row[\"reviewText\"].lower():\n",
    "        count_2 += 1\n",
    "        \n",
    "    if \"nail\" in row[\"reviewerName\"].lower() and \"nail\" in row[\"reviewText\"].lower() and \"nail\" in row[\"summary\"].lower():\n",
    "        count_3 += 1\n",
    "        \n",
    "    if \"nail\" in row[\"reviewerName\"].lower() and row['llm'] == True:\n",
    "        count_gpt += 1\n",
    "        \n",
    "    total_count += 1\n",
    "   \n",
    "print(count)\n",
    "print(count_2)\n",
    "print(count_3)\n",
    "print(count_gpt)\n",
    "print(total_count)"
   ]
  },
  {
   "cell_type": "code",
   "execution_count": 19,
   "id": "5a6e4628",
   "metadata": {},
   "outputs": [
    {
     "data": {
      "text/plain": [
       "0.32989690721649484"
      ]
     },
     "execution_count": 19,
     "metadata": {},
     "output_type": "execute_result"
    }
   ],
   "source": [
    "# roughly 30-40% of our results show that product names are coorelated to fake names. (We tested with various products)\n",
    "96 / 291"
   ]
  },
  {
   "cell_type": "code",
   "execution_count": 21,
   "id": "d7a148c1",
   "metadata": {},
   "outputs": [
    {
     "data": {
      "text/plain": [
       "0.027394353338301265"
      ]
     },
     "execution_count": 21,
     "metadata": {},
     "output_type": "execute_result"
    }
   ],
   "source": [
    "# Percent of rows that are flagged True for ChatGPT, roughly 3%\n",
    "len(True_GPT) / len(new_data)"
   ]
  },
  {
   "cell_type": "code",
   "execution_count": 22,
   "id": "77313173",
   "metadata": {},
   "outputs": [
    {
     "name": "stdout",
     "output_type": "stream",
     "text": [
      "459.83059027897724\n"
     ]
    }
   ],
   "source": [
    "# average number of characters for reviews that were not guaranteed to be generated by ChatGPT\n",
    "\n",
    "count = 0\n",
    "\n",
    "for index, row in new_data.iterrows():\n",
    "    if row['llm'] == False:\n",
    "        count += len(row['reviewText'])\n",
    "        \n",
    "print(count/len(new_data))"
   ]
  },
  {
   "cell_type": "code",
   "execution_count": 23,
   "id": "6edb9cd5",
   "metadata": {},
   "outputs": [
    {
     "name": "stdout",
     "output_type": "stream",
     "text": [
      "234.43901999639704\n"
     ]
    }
   ],
   "source": [
    "# average number of characters for reviews that were generated by ChatGPT\n",
    "\n",
    "count = 0\n",
    "\n",
    "for index, row in True_GPT.iterrows():\n",
    "    count += len(row['reviewText'])\n",
    "        \n",
    "print(count/len(True_GPT))"
   ]
  },
  {
   "cell_type": "code",
   "execution_count": 35,
   "id": "d4850898",
   "metadata": {},
   "outputs": [
    {
     "data": {
      "text/html": [
       "<div>\n",
       "<style scoped>\n",
       "    .dataframe tbody tr th:only-of-type {\n",
       "        vertical-align: middle;\n",
       "    }\n",
       "\n",
       "    .dataframe tbody tr th {\n",
       "        vertical-align: top;\n",
       "    }\n",
       "\n",
       "    .dataframe thead th {\n",
       "        text-align: right;\n",
       "    }\n",
       "</style>\n",
       "<table border=\"1\" class=\"dataframe\">\n",
       "  <thead>\n",
       "    <tr style=\"text-align: right;\">\n",
       "      <th></th>\n",
       "      <th>reviewerID</th>\n",
       "      <th>reviewerName</th>\n",
       "      <th>helpful</th>\n",
       "      <th>reviewText</th>\n",
       "      <th>overall</th>\n",
       "      <th>summary</th>\n",
       "      <th>unixReviewTime</th>\n",
       "      <th>reviewTime</th>\n",
       "      <th>llm</th>\n",
       "      <th>num1</th>\n",
       "      <th>num2</th>\n",
       "    </tr>\n",
       "    <tr>\n",
       "      <th>asin</th>\n",
       "      <th></th>\n",
       "      <th></th>\n",
       "      <th></th>\n",
       "      <th></th>\n",
       "      <th></th>\n",
       "      <th></th>\n",
       "      <th></th>\n",
       "      <th></th>\n",
       "      <th></th>\n",
       "      <th></th>\n",
       "      <th></th>\n",
       "    </tr>\n",
       "  </thead>\n",
       "  <tbody>\n",
       "    <tr>\n",
       "      <th>b1d65a8c-bcdd-4b53-aac8-43366bf28424</th>\n",
       "      <td>22</td>\n",
       "      <td>22</td>\n",
       "      <td>22</td>\n",
       "      <td>22</td>\n",
       "      <td>22</td>\n",
       "      <td>22</td>\n",
       "      <td>22</td>\n",
       "      <td>22</td>\n",
       "      <td>22</td>\n",
       "      <td>22</td>\n",
       "      <td>22</td>\n",
       "    </tr>\n",
       "    <tr>\n",
       "      <th>bcdee70e-f091-4a7d-a177-0ac444056258</th>\n",
       "      <td>21</td>\n",
       "      <td>21</td>\n",
       "      <td>21</td>\n",
       "      <td>21</td>\n",
       "      <td>21</td>\n",
       "      <td>21</td>\n",
       "      <td>21</td>\n",
       "      <td>21</td>\n",
       "      <td>21</td>\n",
       "      <td>21</td>\n",
       "      <td>21</td>\n",
       "    </tr>\n",
       "    <tr>\n",
       "      <th>44ca3f0f-e5d3-4afb-975a-60513ac7b4c9</th>\n",
       "      <td>20</td>\n",
       "      <td>20</td>\n",
       "      <td>20</td>\n",
       "      <td>20</td>\n",
       "      <td>20</td>\n",
       "      <td>20</td>\n",
       "      <td>20</td>\n",
       "      <td>20</td>\n",
       "      <td>20</td>\n",
       "      <td>20</td>\n",
       "      <td>20</td>\n",
       "    </tr>\n",
       "    <tr>\n",
       "      <th>d9ba2708-c770-4b78-bd47-8044b5de830c</th>\n",
       "      <td>19</td>\n",
       "      <td>19</td>\n",
       "      <td>19</td>\n",
       "      <td>19</td>\n",
       "      <td>19</td>\n",
       "      <td>19</td>\n",
       "      <td>19</td>\n",
       "      <td>19</td>\n",
       "      <td>19</td>\n",
       "      <td>19</td>\n",
       "      <td>19</td>\n",
       "    </tr>\n",
       "    <tr>\n",
       "      <th>5bbb4054-c2be-4dec-9d5b-cd8e45be0962</th>\n",
       "      <td>19</td>\n",
       "      <td>19</td>\n",
       "      <td>19</td>\n",
       "      <td>19</td>\n",
       "      <td>19</td>\n",
       "      <td>19</td>\n",
       "      <td>19</td>\n",
       "      <td>19</td>\n",
       "      <td>19</td>\n",
       "      <td>19</td>\n",
       "      <td>19</td>\n",
       "    </tr>\n",
       "  </tbody>\n",
       "</table>\n",
       "</div>"
      ],
      "text/plain": [
       "                                      reviewerID  reviewerName  helpful  \\\n",
       "asin                                                                      \n",
       "b1d65a8c-bcdd-4b53-aac8-43366bf28424          22            22       22   \n",
       "bcdee70e-f091-4a7d-a177-0ac444056258          21            21       21   \n",
       "44ca3f0f-e5d3-4afb-975a-60513ac7b4c9          20            20       20   \n",
       "d9ba2708-c770-4b78-bd47-8044b5de830c          19            19       19   \n",
       "5bbb4054-c2be-4dec-9d5b-cd8e45be0962          19            19       19   \n",
       "\n",
       "                                      reviewText  overall  summary  \\\n",
       "asin                                                                 \n",
       "b1d65a8c-bcdd-4b53-aac8-43366bf28424          22       22       22   \n",
       "bcdee70e-f091-4a7d-a177-0ac444056258          21       21       21   \n",
       "44ca3f0f-e5d3-4afb-975a-60513ac7b4c9          20       20       20   \n",
       "d9ba2708-c770-4b78-bd47-8044b5de830c          19       19       19   \n",
       "5bbb4054-c2be-4dec-9d5b-cd8e45be0962          19       19       19   \n",
       "\n",
       "                                      unixReviewTime  reviewTime  llm  num1  \\\n",
       "asin                                                                          \n",
       "b1d65a8c-bcdd-4b53-aac8-43366bf28424              22          22   22    22   \n",
       "bcdee70e-f091-4a7d-a177-0ac444056258              21          21   21    21   \n",
       "44ca3f0f-e5d3-4afb-975a-60513ac7b4c9              20          20   20    20   \n",
       "d9ba2708-c770-4b78-bd47-8044b5de830c              19          19   19    19   \n",
       "5bbb4054-c2be-4dec-9d5b-cd8e45be0962              19          19   19    19   \n",
       "\n",
       "                                      num2  \n",
       "asin                                        \n",
       "b1d65a8c-bcdd-4b53-aac8-43366bf28424    22  \n",
       "bcdee70e-f091-4a7d-a177-0ac444056258    21  \n",
       "44ca3f0f-e5d3-4afb-975a-60513ac7b4c9    20  \n",
       "d9ba2708-c770-4b78-bd47-8044b5de830c    19  \n",
       "5bbb4054-c2be-4dec-9d5b-cd8e45be0962    19  "
      ]
     },
     "execution_count": 35,
     "metadata": {},
     "output_type": "execute_result"
    }
   ],
   "source": [
    "# Looking at the amount of reviews from the Chat GPT generated reviews, we can look at the product ID's with the \n",
    "# highest number of reviews.\n",
    "# Olay Regenerist Night Recovery Moist Treatment is the product with the most fradulent reviews\n",
    "# 22/132 = 16%\n",
    "\n",
    "True_GPT.groupby('asin').count().sort_values(by='reviewerID', ascending = False).head()"
   ]
  },
  {
   "cell_type": "code",
   "execution_count": null,
   "id": "47b35ca9",
   "metadata": {},
   "outputs": [],
   "source": []
  }
 ],
 "metadata": {
  "kernelspec": {
   "display_name": "Python 3 (ipykernel)",
   "language": "python",
   "name": "python3"
  },
  "language_info": {
   "codemirror_mode": {
    "name": "ipython",
    "version": 3
   },
   "file_extension": ".py",
   "mimetype": "text/x-python",
   "name": "python",
   "nbconvert_exporter": "python",
   "pygments_lexer": "ipython3",
   "version": "3.9.12"
  }
 },
 "nbformat": 4,
 "nbformat_minor": 5
}
